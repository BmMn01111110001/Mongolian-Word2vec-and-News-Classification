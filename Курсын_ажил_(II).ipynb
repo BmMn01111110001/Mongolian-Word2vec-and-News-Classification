{
  "nbformat": 4,
  "nbformat_minor": 0,
  "metadata": {
    "kernelspec": {
      "name": "python3",
      "display_name": "Python 3"
    },
    "language_info": {
      "codemirror_mode": {
        "name": "ipython",
        "version": 3
      },
      "file_extension": ".py",
      "mimetype": "text/x-python",
      "name": "python",
      "nbconvert_exporter": "python",
      "pygments_lexer": "ipython3",
      "version": "3.6.7"
    },
    "colab": {
      "name": "Курсын ажил (II).ipynb",
      "provenance": [],
      "machine_shape": "hm"
    },
    "accelerator": "GPU"
  },
  "cells": [
    {
      "cell_type": "markdown",
      "metadata": {
        "id": "_HXw0bTlWam-",
        "colab_type": "text"
      },
      "source": [
        "# Курсын ажил (II)"
      ]
    },
    {
      "cell_type": "markdown",
      "metadata": {
        "id": "0YmPCFiPUTDZ",
        "colab_type": "text"
      },
      "source": [
        "## 0. Шаардлагатай санг оруулж ирэх өгөгдлөө унших"
      ]
    },
    {
      "cell_type": "code",
      "metadata": {
        "id": "V1NyZIL71aUm",
        "colab_type": "code",
        "outputId": "2bb97a49-8376-4035-f4a4-1581cb7ae152",
        "colab": {
          "base_uri": "https://localhost:8080/",
          "height": 34
        }
      },
      "source": [
        "import tensorflow as tf\n",
        "\n",
        "print(tf.__version__)"
      ],
      "execution_count": 2,
      "outputs": [
        {
          "output_type": "stream",
          "text": [
            "2.2.0-rc3\n"
          ],
          "name": "stdout"
        }
      ]
    },
    {
      "cell_type": "code",
      "metadata": {
        "id": "ntYMordq1aUx",
        "colab_type": "code",
        "colab": {}
      },
      "source": [
        "import csv\n",
        "import numpy as np\n",
        "from tensorflow.keras.preprocessing.text import Tokenizer\n",
        "from tensorflow.keras.preprocessing.sequence import pad_sequences\n",
        "from gensim.models import Word2Vec\n",
        "import pandas as pd\n",
        "import pickle\n",
        "import matplotlib.pyplot as plt\n",
        "import os\n",
        "from os.path import exists, join, basename, splitext\n",
        "import sys"
      ],
      "execution_count": 0,
      "outputs": []
    },
    {
      "cell_type": "markdown",
      "metadata": {
        "id": "zbLLYV4H31Ws",
        "colab_type": "text"
      },
      "source": [
        "### Word2Vec Модел татаж авах"
      ]
    },
    {
      "cell_type": "code",
      "metadata": {
        "id": "e36ktu971BO9",
        "colab_type": "code",
        "colab": {}
      },
      "source": [
        "def download_from_google_drive_w2v(file_id, file_name):\n",
        "  !rm -f ./cookie\n",
        "  !curl -c ./cookie -s -L \"https://drive.google.com/uc?id=$file_id&export=download\" > /dev/null\n",
        "  confirm_text = !awk '/download/ {print $NF}' ./cookie\n",
        "  confirm_text = confirm_text[0]\n",
        "  !curl -Lb ./cookie \"https://drive.google.com/uc?export=download&confirm=&id=$file_id\" -o $file_name\n",
        "\n",
        "file_path = 'word2vec'\n",
        "if not exists(file_path):\n",
        "  download_from_google_drive_w2v('1WpkY-PbcnAvfBzxDnQriWn81K2JZ56lS', '%s.model' % file_path)"
      ],
      "execution_count": 0,
      "outputs": []
    },
    {
      "cell_type": "markdown",
      "metadata": {
        "id": "81P6kqE53-7e",
        "colab_type": "text"
      },
      "source": [
        "### Өгөгдлөө татаж авах"
      ]
    },
    {
      "cell_type": "code",
      "metadata": {
        "id": "jrkwL86mpUF9",
        "colab_type": "code",
        "colab": {
          "base_uri": "https://localhost:8080/",
          "height": 121
        },
        "outputId": "113a8fa1-b79d-4568-ec8a-bdbc10c73617"
      },
      "source": [
        "import os\n",
        "from os.path import exists, join, basename, splitext\n",
        "import sys\n",
        "\n",
        "def download_from_google_drive(file_id, file_name):\n",
        "  !rm -f ./cookie\n",
        "  !curl -c ./cookie -s -L \"https://drive.google.com/uc?id=$file_id&export=download\" > /dev/null\n",
        "  confirm_text = !awk '/download/ {print $NF}' ./cookie\n",
        "  confirm_text = confirm_text[0]\n",
        "  !curl -Lb ./cookie \"https://drive.google.com/uc?export=download&confirm=$confirm_text&id=$file_id\" -o $file_name\n",
        "  \n",
        "# Өгөгдлөө уншиж авах\n",
        "file_path = 'engLabelNewsData'\n",
        "if not exists(file_path):\n",
        "  download_from_google_drive('1Q-h9QkdmUyjjEhOvaRO9jHKdeWn8eGwd', '%s.csv' % file_path)\n"
      ],
      "execution_count": 56,
      "outputs": [
        {
          "output_type": "stream",
          "text": [
            "  % Total    % Received % Xferd  Average Speed   Time    Time     Time  Current\n",
            "                                 Dload  Upload   Total   Spent    Left  Speed\n",
            "\r  0     0    0     0    0     0      0      0 --:--:-- --:--:-- --:--:--     0\r100   408    0   408    0     0   1387      0 --:--:-- --:--:-- --:--:--  1387\n",
            "\r  0     0    0     0    0     0      0      0 --:--:-- --:--:-- --:--:--     0\r  0     0    0     0    0     0      0      0 --:--:-- --:--:-- --:--:--     0\n",
            "  0     0    0     0    0     0      0      0 --:--:-- --:--:-- --:--:--     0\n",
            "100  256M    0  256M    0     0   138M      0 --:--:--  0:00:01 --:--:--  334M\n"
          ],
          "name": "stdout"
        }
      ]
    },
    {
      "cell_type": "markdown",
      "metadata": {
        "id": "iebmrnkd4FjE",
        "colab_type": "text"
      },
      "source": [
        "### Өгөгдлөө уншиж авах"
      ]
    },
    {
      "cell_type": "code",
      "metadata": {
        "id": "vH1-SDuw1aU7",
        "colab_type": "code",
        "outputId": "59fd3a21-6b3f-4eba-b445-b777874dc68e",
        "colab": {
          "base_uri": "https://localhost:8080/",
          "height": 52
        }
      },
      "source": [
        "articles = []\n",
        "labels = []\n",
        "datapath = 'engLabelNewsData.csv'\n",
        "with open(datapath, 'r') as csvfile:\n",
        "  reader = csv.reader(csvfile, delimiter=',')\n",
        "  next(reader)\n",
        "  for row in reader:\n",
        "    labels.append(row[1])\n",
        "    articles.append(row[0])\n",
        "print(len(labels))\n",
        "print(len(articles))\n"
      ],
      "execution_count": 43,
      "outputs": [
        {
          "output_type": "stream",
          "text": [
            "75661\n",
            "75661\n"
          ],
          "name": "stdout"
        }
      ]
    },
    {
      "cell_type": "code",
      "metadata": {
        "id": "DCJxQpCOd90I",
        "colab_type": "code",
        "colab": {}
      },
      "source": [
        "embedding_dim = 100\n",
        "max_length = 200\n",
        "trunc_type = 'post'\n",
        "padding_type = 'post'\n",
        "oov_tok = '<OOV>'\n",
        "training_portion = .80"
      ],
      "execution_count": 0,
      "outputs": []
    },
    {
      "cell_type": "code",
      "metadata": {
        "id": "eQbvONxxNVJl",
        "colab_type": "code",
        "outputId": "b59a3842-4699-4ca5-d37c-f57101a3e4e2",
        "colab": {
          "base_uri": "https://localhost:8080/",
          "height": 34
        }
      },
      "source": [
        "print(set(labels))"
      ],
      "execution_count": 6,
      "outputs": [
        {
          "output_type": "stream",
          "text": [
            "{'enviroment', 'economy', 'sport', 'politics', 'education', 'technology', 'art', 'law', 'health'}\n"
          ],
          "name": "stdout"
        }
      ]
    },
    {
      "cell_type": "code",
      "metadata": {
        "id": "pJIsgyJsnT6u",
        "colab_type": "code",
        "colab": {
          "base_uri": "https://localhost:8080/",
          "height": 34
        },
        "outputId": "6f03203e-a975-4383-ed94-1bcc5ce66d04"
      },
      "source": [
        "print(len(labels))"
      ],
      "execution_count": 8,
      "outputs": [
        {
          "output_type": "stream",
          "text": [
            "75661\n"
          ],
          "name": "stdout"
        }
      ]
    },
    {
      "cell_type": "markdown",
      "metadata": {
        "id": "X8QV9xpmUhuw",
        "colab_type": "text"
      },
      "source": [
        "## Word2vec моделоо уншиж авах"
      ]
    },
    {
      "cell_type": "code",
      "metadata": {
        "id": "aTMWe5VEP2sy",
        "colab_type": "code",
        "outputId": "25960e0e-77a7-4bfc-8522-67bf4dec78c1",
        "colab": {
          "base_uri": "https://localhost:8080/",
          "height": 72
        }
      },
      "source": [
        "word_model = Word2Vec.load('/content/drive/My Drive/text-classification-nn/word2vec.model')"
      ],
      "execution_count": 9,
      "outputs": [
        {
          "output_type": "stream",
          "text": [
            "/usr/local/lib/python3.6/dist-packages/smart_open/smart_open_lib.py:253: UserWarning: This function is deprecated, use smart_open.open instead. See the migration notes for details: https://github.com/RaRe-Technologies/smart_open/blob/master/README.rst#migrating-to-the-new-open-function\n",
            "  'See the migration notes for details: %s' % _MIGRATION_NOTES_URL\n"
          ],
          "name": "stderr"
        }
      ]
    },
    {
      "cell_type": "code",
      "metadata": {
        "id": "KwkZJNn4Hjzb",
        "colab_type": "code",
        "outputId": "18a7e2fb-a592-4eca-95ac-6ea0c047cd70",
        "colab": {
          "base_uri": "https://localhost:8080/",
          "height": 89
        }
      },
      "source": [
        "print(word_model.wv.most_similar('монгол'))\n",
        "#print(word2vec_model[\"монгол\"])"
      ],
      "execution_count": 10,
      "outputs": [
        {
          "output_type": "stream",
          "text": [
            "[('мон\\xadгол', 0.6650691628456116), ('япон', 0.6176186800003052), ('турк', 0.5443229675292969), ('мьянмар', 0.5383078455924988), ('австри', 0.5067983865737915), ('вант', 0.4940747916698456), ('жүдо', 0.4768131971359253), ('хбнгу', 0.4722890257835388), ('бури', 0.4670514166355133), ('сингапур', 0.4581110179424286)]\n"
          ],
          "name": "stdout"
        },
        {
          "output_type": "stream",
          "text": [
            "/usr/local/lib/python3.6/dist-packages/gensim/matutils.py:737: FutureWarning: Conversion of the second argument of issubdtype from `int` to `np.signedinteger` is deprecated. In future, it will be treated as `np.int64 == np.dtype(int).type`.\n",
            "  if np.issubdtype(vec.dtype, np.int):\n"
          ],
          "name": "stderr"
        }
      ]
    },
    {
      "cell_type": "markdown",
      "metadata": {
        "id": "62qOawGt0CyF",
        "colab_type": "text"
      },
      "source": [
        "## Сургалтын баталгаажуулалтын өгөгдөл болгон хуваах"
      ]
    },
    {
      "cell_type": "code",
      "metadata": {
        "id": "4vQPh8X21aVA",
        "colab_type": "code",
        "outputId": "b5f5bdd6-52dc-4585-b4ad-dd58ee0e2bf2",
        "colab": {
          "base_uri": "https://localhost:8080/",
          "height": 138
        }
      },
      "source": [
        "train_size = int(len(articles) * training_portion)\n",
        "\n",
        "train_articles = articles[0: train_size]\n",
        "train_labels = labels[0: train_size]\n",
        "\n",
        "test_articles = articles[train_size:]\n",
        "test_labels = labels[train_size:]\n",
        "\n",
        "partial_index = 3000\n",
        "\n",
        "validation_articles = train_articles[:partial_index]\n",
        "train_articles = train_articles[partial_index:]\n",
        "\n",
        "validation_labels = train_labels[:partial_index]\n",
        "train_labels = train_labels[partial_index:]\n",
        "\n",
        "print(\"Train size \",train_size)\n",
        "print(\"Train news lenght \",len(train_articles))\n",
        "print(\"Label lenght\",len(train_labels))\n",
        "print(\"Test news lenght\",len(test_articles))\n",
        "print(\"Test label lenght\",len(test_labels))\n",
        "print(\"Validation news lenght\",len(validation_articles))\n",
        "print(\"Validation label lenght\",len(validation_labels))"
      ],
      "execution_count": 11,
      "outputs": [
        {
          "output_type": "stream",
          "text": [
            "Train size  60528\n",
            "Train news lenght  57528\n",
            "Label lenght 57528\n",
            "Test news lenght 15133\n",
            "Test label lenght 15133\n",
            "Validation news lenght 3000\n",
            "Validation label lenght 3000\n"
          ],
          "name": "stdout"
        }
      ]
    },
    {
      "cell_type": "code",
      "metadata": {
        "id": "DVWwvKSdLqv9",
        "colab_type": "code",
        "colab": {}
      },
      "source": [
        ""
      ],
      "execution_count": 0,
      "outputs": []
    },
    {
      "cell_type": "markdown",
      "metadata": {
        "id": "MIfPRQyaz5IP",
        "colab_type": "text"
      },
      "source": [
        "## Ижил урттай болгох\n"
      ]
    },
    {
      "cell_type": "markdown",
      "metadata": {
        "id": "JOxqVYBpmXyD",
        "colab_type": "text"
      },
      "source": [
        "### Сургалтын өгөгдлийн хувьд"
      ]
    },
    {
      "cell_type": "code",
      "metadata": {
        "id": "3VDPMP-Q1aVE",
        "colab_type": "code",
        "outputId": "56e1d660-56c2-419a-ac63-4248ff54eaa0",
        "colab": {
          "base_uri": "https://localhost:8080/",
          "height": 121
        }
      },
      "source": [
        "tokenizer = Tokenizer()\n",
        "tokenizer.fit_on_texts(articles)\n",
        "\n",
        "word_index = tokenizer.word_index\n",
        "vocab_size=len(word_index)\n",
        "# Сургалтын хэсэг\n",
        "train_sequences = tokenizer.texts_to_sequences(train_articles)\n",
        "train_padded = pad_sequences(train_sequences, maxlen=max_length, padding=padding_type, truncating=trunc_type)\n",
        "\n",
        "print(len(train_sequences[0]))\n",
        "print(len(train_padded[0]))\n",
        "\n",
        "print(len(train_sequences[1]))\n",
        "print(len(train_padded[1]))\n",
        "\n",
        "print(len(train_sequences[10]))\n",
        "print(len(train_padded[10]))"
      ],
      "execution_count": 12,
      "outputs": [
        {
          "output_type": "stream",
          "text": [
            "118\n",
            "200\n",
            "107\n",
            "200\n",
            "139\n",
            "200\n"
          ],
          "name": "stdout"
        }
      ]
    },
    {
      "cell_type": "code",
      "metadata": {
        "id": "BbGT1iLyoK3X",
        "colab_type": "code",
        "colab": {
          "base_uri": "https://localhost:8080/",
          "height": 34
        },
        "outputId": "ede91557-2725-4b51-9cb1-79f3faac1b10"
      },
      "source": [
        "print(len(word_index))"
      ],
      "execution_count": 13,
      "outputs": [
        {
          "output_type": "stream",
          "text": [
            "472967\n"
          ],
          "name": "stdout"
        }
      ]
    },
    {
      "cell_type": "markdown",
      "metadata": {
        "id": "J3eW1P-TmgtF",
        "colab_type": "text"
      },
      "source": [
        "### Баталгаажуулалтын өгөгдлийн хувьд"
      ]
    },
    {
      "cell_type": "code",
      "metadata": {
        "id": "YMoehw6_n7Ux",
        "colab_type": "code",
        "colab": {
          "base_uri": "https://localhost:8080/",
          "height": 52
        },
        "outputId": "7ada5a87-a415-4adc-fa96-61a3d9181440"
      },
      "source": [
        "validation_sequences = tokenizer.texts_to_sequences(validation_articles)\n",
        "validation_padded = pad_sequences(validation_sequences, maxlen=max_length, padding=padding_type, truncating=trunc_type)\n",
        "\n",
        "print(len(validation_sequences))\n",
        "print(validation_padded.shape)"
      ],
      "execution_count": 14,
      "outputs": [
        {
          "output_type": "stream",
          "text": [
            "3000\n",
            "(3000, 200)\n"
          ],
          "name": "stdout"
        }
      ]
    },
    {
      "cell_type": "markdown",
      "metadata": {
        "id": "ngdGM2TKmmsk",
        "colab_type": "text"
      },
      "source": [
        "### Тест өгөгдлийн хувьд"
      ]
    },
    {
      "cell_type": "code",
      "metadata": {
        "id": "hgSqASL_1aVK",
        "colab_type": "code",
        "outputId": "98c5ddb9-515c-40a7-dc7a-37ef6321a172",
        "colab": {
          "base_uri": "https://localhost:8080/",
          "height": 52
        }
      },
      "source": [
        "test_sequences = tokenizer.texts_to_sequences(test_articles)\n",
        "test_padded = pad_sequences(test_sequences, maxlen=max_length, padding=padding_type, truncating=trunc_type)\n",
        "\n",
        "print(len(test_sequences))\n",
        "print(test_padded.shape)"
      ],
      "execution_count": 15,
      "outputs": [
        {
          "output_type": "stream",
          "text": [
            "15133\n",
            "(15133, 200)\n"
          ],
          "name": "stdout"
        }
      ]
    },
    {
      "cell_type": "markdown",
      "metadata": {
        "id": "KEKHRY8wmsQX",
        "colab_type": "text"
      },
      "source": [
        "### Label-ийн хувьд"
      ]
    },
    {
      "cell_type": "code",
      "metadata": {
        "id": "wWXZUWj21aVP",
        "colab_type": "code",
        "colab": {}
      },
      "source": [
        "label_tokenizer = Tokenizer()\n",
        "label_tokenizer.fit_on_texts(labels)\n",
        "\n",
        "training_label_seq = np.array(label_tokenizer.texts_to_sequences(train_labels))\n",
        "validation_label_seq = np.array(label_tokenizer.texts_to_sequences(validation_labels))\n",
        "test_label_seq = np.array(label_tokenizer.texts_to_sequences(test_labels))"
      ],
      "execution_count": 0,
      "outputs": []
    },
    {
      "cell_type": "markdown",
      "metadata": {
        "id": "-z1jqKL_nClU",
        "colab_type": "text"
      },
      "source": [
        "## Embedding matrix бэлтгэх"
      ]
    },
    {
      "cell_type": "code",
      "metadata": {
        "id": "NZ0j4eK9OVJS",
        "colab_type": "code",
        "outputId": "efa9544f-14c8-47fc-bad9-b59797e1d067",
        "colab": {
          "base_uri": "https://localhost:8080/",
          "height": 52
        }
      },
      "source": [
        "import numpy as np\n",
        "\n",
        "words_not_found = []\n",
        "embedding_matrix = np.random.uniform(-1, 1, (vocab_size, embedding_dim))\n",
        "for word, i in word_index.items():\n",
        "  if i<4:\n",
        "    continue\n",
        "  try:\n",
        "    embedding_vector = word_model[word]\n",
        "    if (embedding_vector is not None) and len(embedding_vector) > 0:\n",
        "      embedding_matrix[i] = embedding_vector\n",
        "  except:\n",
        "    words_not_found.append(word)\n",
        "    pass"
      ],
      "execution_count": 17,
      "outputs": [
        {
          "output_type": "stream",
          "text": [
            "/usr/local/lib/python3.6/dist-packages/ipykernel_launcher.py:9: DeprecationWarning: Call to deprecated `__getitem__` (Method will be removed in 4.0.0, use self.wv.__getitem__() instead).\n",
            "  if __name__ == '__main__':\n"
          ],
          "name": "stderr"
        }
      ]
    },
    {
      "cell_type": "code",
      "metadata": {
        "id": "PpN4Ys-7LNvU",
        "colab_type": "code",
        "outputId": "e3f27324-038b-4b4f-c787-7940eb7e4e69",
        "colab": {
          "base_uri": "https://localhost:8080/",
          "height": 34
        }
      },
      "source": [
        "print(embedding_matrix.shape)"
      ],
      "execution_count": 18,
      "outputs": [
        {
          "output_type": "stream",
          "text": [
            "(472967, 100)\n"
          ],
          "name": "stdout"
        }
      ]
    },
    {
      "cell_type": "markdown",
      "metadata": {
        "id": "uvK0XTn-ncJV",
        "colab_type": "text"
      },
      "source": [
        "## Моделоо бэлтгэх, сургалт"
      ]
    },
    {
      "cell_type": "code",
      "metadata": {
        "id": "s4TMH2e41aVT",
        "colab_type": "code",
        "outputId": "b1e1af4c-58d4-4158-ce24-15853f58ac52",
        "colab": {
          "base_uri": "https://localhost:8080/",
          "height": 329
        }
      },
      "source": [
        "\n",
        "model = tf.keras.Sequential([\n",
        "    tf.keras.layers.Embedding(vocab_size+1, embedding_dim,\n",
        "                             input_length=max_length),\n",
        "\n",
        "    tf.keras.layers.Conv1D(128, 9, activation='relu'),\n",
        "    tf.keras.layers.GlobalAveragePooling1D(),\n",
        "    tf.keras.layers.Dense(64, activation='relu'),\n",
        "    tf.keras.layers.Dense(10, activation='sigmoid')\n",
        "])\n",
        "model.summary()"
      ],
      "execution_count": 25,
      "outputs": [
        {
          "output_type": "stream",
          "text": [
            "Model: \"sequential_2\"\n",
            "_________________________________________________________________\n",
            "Layer (type)                 Output Shape              Param #   \n",
            "=================================================================\n",
            "embedding_2 (Embedding)      (None, 200, 100)          47296800  \n",
            "_________________________________________________________________\n",
            "conv1d_2 (Conv1D)            (None, 192, 128)          115328    \n",
            "_________________________________________________________________\n",
            "global_average_pooling1d_2 ( (None, 128)               0         \n",
            "_________________________________________________________________\n",
            "dense_4 (Dense)              (None, 64)                8256      \n",
            "_________________________________________________________________\n",
            "dense_5 (Dense)              (None, 10)                650       \n",
            "=================================================================\n",
            "Total params: 47,421,034\n",
            "Trainable params: 47,421,034\n",
            "Non-trainable params: 0\n",
            "_________________________________________________________________\n"
          ],
          "name": "stdout"
        }
      ]
    },
    {
      "cell_type": "markdown",
      "metadata": {
        "id": "3HG-xkVaD42R",
        "colab_type": "text"
      },
      "source": [
        "jj"
      ]
    },
    {
      "cell_type": "code",
      "metadata": {
        "id": "ovDpkSqu1aVZ",
        "colab_type": "code",
        "colab": {}
      },
      "source": [
        "model.compile(loss='sparse_categorical_crossentropy', optimizer='adam', metrics=['accuracy'])"
      ],
      "execution_count": 0,
      "outputs": []
    },
    {
      "cell_type": "code",
      "metadata": {
        "id": "5duZ6sf91aVd",
        "colab_type": "code",
        "outputId": "ed4250f1-ef7b-47d2-82aa-1eb025c8e10d",
        "colab": {
          "base_uri": "https://localhost:8080/",
          "height": 364
        }
      },
      "source": [
        "num_epochs = 10\n",
        "history = model.fit(train_padded,\n",
        "                    training_label_seq,\n",
        "                    epochs=num_epochs,\n",
        "                    batch_size=512,\n",
        "                    validation_data=(validation_padded, validation_label_seq),\n",
        "                    verbose=1)"
      ],
      "execution_count": 27,
      "outputs": [
        {
          "output_type": "stream",
          "text": [
            "Epoch 1/10\n",
            "113/113 [==============================] - 31s 276ms/step - loss: 1.7234 - accuracy: 0.2661 - val_loss: 1.6552 - val_accuracy: 0.2857\n",
            "Epoch 2/10\n",
            "113/113 [==============================] - 30s 268ms/step - loss: 0.4978 - accuracy: 0.8508 - val_loss: 0.7287 - val_accuracy: 0.7833\n",
            "Epoch 3/10\n",
            "113/113 [==============================] - 30s 269ms/step - loss: 0.2502 - accuracy: 0.9265 - val_loss: 0.5820 - val_accuracy: 0.8200\n",
            "Epoch 4/10\n",
            "113/113 [==============================] - 30s 269ms/step - loss: 0.1463 - accuracy: 0.9583 - val_loss: 0.5430 - val_accuracy: 0.8333\n",
            "Epoch 5/10\n",
            "113/113 [==============================] - 30s 269ms/step - loss: 0.0895 - accuracy: 0.9744 - val_loss: 0.5497 - val_accuracy: 0.8447\n",
            "Epoch 6/10\n",
            "113/113 [==============================] - 30s 268ms/step - loss: 0.0611 - accuracy: 0.9822 - val_loss: 0.5396 - val_accuracy: 0.8537\n",
            "Epoch 7/10\n",
            "113/113 [==============================] - 31s 270ms/step - loss: 0.0480 - accuracy: 0.9853 - val_loss: 0.5566 - val_accuracy: 0.8593\n",
            "Epoch 8/10\n",
            "113/113 [==============================] - 31s 270ms/step - loss: 0.0421 - accuracy: 0.9872 - val_loss: 0.7160 - val_accuracy: 0.8193\n",
            "Epoch 9/10\n",
            "113/113 [==============================] - 30s 269ms/step - loss: 0.0353 - accuracy: 0.9884 - val_loss: 0.6522 - val_accuracy: 0.8410\n",
            "Epoch 10/10\n",
            "113/113 [==============================] - 31s 272ms/step - loss: 0.0321 - accuracy: 0.9890 - val_loss: 0.5796 - val_accuracy: 0.8617\n"
          ],
          "name": "stdout"
        }
      ]
    },
    {
      "cell_type": "code",
      "metadata": {
        "id": "_2Cr1k0zQl8V",
        "colab_type": "code",
        "colab": {
          "base_uri": "https://localhost:8080/",
          "height": 52
        },
        "outputId": "2b9ab850-187e-4273-dd02-c276366f348a"
      },
      "source": [
        "results = model.evaluate(test_padded, test_label_seq)\n",
        "print(results)"
      ],
      "execution_count": 28,
      "outputs": [
        {
          "output_type": "stream",
          "text": [
            "473/473 [==============================] - 1s 3ms/step - loss: 4.0365 - accuracy: 0.5651\n",
            "[4.036470890045166, 0.5651226043701172]\n"
          ],
          "name": "stdout"
        }
      ]
    },
    {
      "cell_type": "markdown",
      "metadata": {
        "id": "W47QRm7OnoPb",
        "colab_type": "text"
      },
      "source": [
        "###  Дүрслэх"
      ]
    },
    {
      "cell_type": "code",
      "metadata": {
        "id": "l7CigR-61aVj",
        "colab_type": "code",
        "outputId": "1c5ed6cf-44ff-4641-98ec-a2048ff9ac9d",
        "colab": {
          "base_uri": "https://localhost:8080/",
          "height": 541
        }
      },
      "source": [
        "def plot_graphs(history, string):\n",
        "  plt.plot(history.history[string])\n",
        "  plt.plot(history.history['val_'+string])\n",
        "  plt.xlabel(\"Epochs\")\n",
        "  plt.ylabel(string)\n",
        "  plt.legend([string, 'val_'+string])\n",
        "  plt.show()\n",
        "  \n",
        "plot_graphs(history, \"accuracy\")\n",
        "plot_graphs(history, \"loss\")"
      ],
      "execution_count": 29,
      "outputs": [
        {
          "output_type": "display_data",
          "data": {
            "image/png": "[encoded data removed]",
            "text/plain": [
              "<Figure size 432x288 with 1 Axes>"
            ]
          },
          "metadata": {
            "tags": [],
            "needs_background": "light"
          }
        },
        {
          "output_type": "display_data",
          "data": {
            "image/png": "[encoded data removed]",
            "text/plain": [
              "<Figure size 432x288 with 1 Axes>"
            ]
          },
          "metadata": {
            "tags": [],
            "needs_background": "light"
          }
        }
      ]
    },
    {
      "cell_type": "markdown",
      "metadata": {
        "id": "LTWxTg3SnxP2",
        "colab_type": "text"
      },
      "source": [
        "### Энгийн туршилт"
      ]
    },
    {
      "cell_type": "code",
      "metadata": {
        "id": "_nrSl_V61aVn",
        "colab_type": "code",
        "outputId": "ec3265d3-19c8-44b2-e62c-a5241683d6b5",
        "colab": {
          "base_uri": "https://localhost:8080/",
          "height": 52
        }
      },
      "source": [
        "txt = [\"спортын төв ордонд өнөөдөр азийн оюутны аварга шалгаруулах эмэгтэй волейболчдын хоёр дахь удаагийн тэмцээний талаар мэдээлэл хийлээ\"]\n",
        "seq = tokenizer.texts_to_sequences(txt)\n",
        "padded = pad_sequences(seq, maxlen=max_length)\n",
        "pred = model.predict(padded)\n",
        "labels = ['health', 'sport', 'technology', 'economy', 'law', 'education', 'enviroment', 'art', 'politics']\n",
        "print(pred, labels[np.argmax(pred)])"
      ],
      "execution_count": 30,
      "outputs": [
        {
          "output_type": "stream",
          "text": [
            "[[2.0459769e-08 3.5800977e-04 9.8384980e-06 4.0090267e-06 6.8675212e-07\n",
            "  1.1366253e-05 3.3772633e-07 9.9093650e-06 3.1414499e-10 5.8691080e-07]] sport\n"
          ],
          "name": "stdout"
        }
      ]
    },
    {
      "cell_type": "code",
      "metadata": {
        "id": "MEmvRlwV1aVs",
        "colab_type": "code",
        "colab": {}
      },
      "source": [
        ""
      ],
      "execution_count": 0,
      "outputs": []
    }
  ]
}